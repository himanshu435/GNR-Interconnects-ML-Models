{
  "nbformat": 4,
  "nbformat_minor": 0,
  "metadata": {
    "colab": {
      "name": "mini project model 3.ipynb",
      "provenance": [],
      "include_colab_link": true
    },
    "kernelspec": {
      "name": "python3",
      "display_name": "Python 3"
    },
    "language_info": {
      "name": "python"
    }
  },
  "cells": [
    {
      "cell_type": "markdown",
      "metadata": {
        "id": "view-in-github",
        "colab_type": "text"
      },
      "source": [
        "<a href=\"https://colab.research.google.com/github/abhay1999/Machine-Learning-Model-Knowledge-based-for-GNR-Interconnects/blob/main/model_3.ipynb\" target=\"_parent\"><img src=\"https://colab.research.google.com/assets/colab-badge.svg\" alt=\"Open In Colab\"/></a>"
      ]
    },
    {
      "cell_type": "code",
      "metadata": {
        "colab": {
          "base_uri": "https://localhost:8080/",
          "height": 1000
        },
        "id": "_YKwBO3NnDji",
        "outputId": "65f59f2b-2afc-457d-9aad-398489324bcf"
      },
      "source": [
        "from google.colab import drive\n",
        "drive.mount('/content/drive')\n",
        "import numpy as np\n",
        "import pandas as pd\n",
        "import matplotlib.pyplot as plt\n",
        "plt.rcParams['figure.figsize'] = (12.0, 9.0)\n",
        "\n",
        "# Preprocessing Input data\n",
        "k=int(input('number of width values'))\n",
        "for i in range(0,k):\n",
        "  w=int(input('width'))\n",
        "  data = pd.read_csv('/content/drive/MyDrive/Mini Project/ex1data3_1.csv')\n",
        "  X= data.iloc[:, 0]\n",
        "  Y= (w/7)*data.iloc[:, 1]\n",
        "  #plt.scatter(X, Y)\n",
        "  #plt.xlabel('Width')\n",
        "  #plt.ylabel('Number of channels')\n",
        "#plt.show()\n",
        "\n",
        "\n",
        "\n",
        "  # Building the model\n",
        "  m = 0\n",
        "  c = 0\n",
        "\n",
        "  L = 0.15  # The learning Rate\n",
        "  epochs = 1000  # The number of iterations to perform gradient descent\n",
        "\n",
        "  n = float(len(X)) # Number of elements in X\n",
        "\n",
        "  # Performing Gradient Descent \n",
        "  for i in range(epochs): \n",
        "      Y_pred = m*X + c  # The current predicted value of Y\n",
        "      D_m = (-2/n) * sum(X * (Y - Y_pred))  # Derivative wrt m\n",
        "      D_c = (-2/n) * sum(Y - Y_pred)  # Derivative wrt c\n",
        "      m = m - L * D_m  # Update m\n",
        "      c = c - L * D_c  # Update c\n",
        "      \n",
        "  print (m, c)\n",
        "\n",
        "  Y_pred = m*X + c\n",
        "\n",
        "  plt.scatter(X, Y) \n",
        "  plt.plot([min(X), max(X)], [min(Y_pred), max(Y_pred)], color='red')\n",
        "  plt.xlabel('Fermi Energy in eV')\n",
        "  plt.ylabel('Number of Chanells')# regression line\n",
        "\n",
        "\n",
        "  from sklearn.metrics import r2_score\n",
        "\n",
        "  r2 = r2_score(Y_pred, Y)\n",
        "\n",
        "  r2\n",
        "\n",
        "  def cal_rmse(actual_readings, predicted_readings):\n",
        "      \"\"\"\n",
        "      Calculating the root mean square error\n",
        "      :param actual_readings:\n",
        "      :param predicted_readings:\n",
        "      :return:\n",
        "      \"\"\"\n",
        "      square_error_total = 0.0\n",
        "      total_readings = len(actual_readings)\n",
        "      for i in range(0, total_readings):\n",
        "          error = predicted_readings[i] - actual_readings[i]\n",
        "          square_error_total += pow(error, 2)\n",
        "      rmse = square_error_total / float(total_readings)\n",
        "      return rmse\n",
        "\n",
        "  r=cal_rmse(Y,Y_pred)\n",
        "\n",
        "  print('Root mean squared error')\n",
        "  print(r)\n",
        "\n",
        "  def squared_error(ys_orig,ys_line):\n",
        "      return sum((ys_line - ys_orig) * (ys_line - ys_orig))\n",
        "\n",
        "  def coefficient_of_determination(ys_orig,ys_line):\n",
        "      y_mean_line = [mean(ys_orig) for y in ys_orig]\n",
        "      squared_error_regr = squared_error(ys_orig, ys_line)\n",
        "      squared_error_y_mean = squared_error(ys_orig, y_mean_line)\n",
        "      return 1 - (squared_error_regr/squared_error_y_mean)\n",
        "\n",
        "  ys_orig=Y\n",
        "  ys_line=Y_pred\n",
        "  from statistics import mean\n",
        "\n",
        "  r2=coefficient_of_determination(ys_orig,ys_line)\n",
        "\n",
        "  print('R score:')\n",
        "  print(r2)\n",
        "  I=float(input('Enter the value of energy in eV to predict the number of channels:'))\n",
        "\n",
        "  print(\"number of channels are :\")\n",
        "  print(m*I+c)\n",
        "  print('Values on X-axis for analytical data:')\n",
        "  print(np.array(X))\n",
        "  print('Values on Y-axis for analytical data:')\n",
        "  print(np.array(Y))\n",
        "  print('Values on X-axis for analytical data:')\n",
        "  print(np.array(X))\n",
        "  print('Values on Y-axis for predicted data:')\n",
        "  print(np.array(Y_pred))\n",
        "  from numpy import savetxt\n",
        "  savetxt('output_predicted.csv',np.array(Y_pred),delimiter=',')\n",
        "  from numpy import loadtxt\n",
        "  a=loadtxt('output_predicted.csv',delimiter=',')\n",
        "  print(a)\n",
        "plt.show()"
      ],
      "execution_count": null,
      "outputs": [
        {
          "output_type": "stream",
          "text": [
            "Drive already mounted at /content/drive; to attempt to forcibly remount, call drive.mount(\"/content/drive\", force_remount=True).\n",
            "number of width values4\n",
            "width7\n",
            "8.359171022166995 0.01661740823395912\n",
            "Root mean squared error\n",
            "3.342180003284853e-05\n",
            "R score:\n",
            "0.9999763167516774\n",
            "Enter the value of energy in eV to predict the number of channels:0.1\n",
            "number of channels are :\n",
            "0.8525345104506586\n",
            "Values on X-axis for analytical data:\n",
            "[0.2 0.3 0.4 0.5 0.6]\n",
            "Values on Y-axis for analytical data:\n",
            "[1.68 2.52 3.36 4.2  5.04]\n",
            "Values on X-axis for analytical data:\n",
            "[0.2 0.3 0.4 0.5 0.6]\n",
            "Values on Y-axis for predicted data:\n",
            "[1.68845161 2.52436871 3.36028582 4.19620292 5.03212002]\n",
            "[1.68845161 2.52436871 3.36028582 4.19620292 5.03212002]\n",
            "width10\n",
            "11.941672888809991 0.023739154619942013\n",
            "Root mean squared error\n",
            "6.820775516907856e-05\n",
            "R score:\n",
            "0.9999763167516774\n",
            "Enter the value of energy in eV to predict the number of channels:0.1\n",
            "number of channels are :\n",
            "1.217906443500941\n",
            "Values on X-axis for analytical data:\n",
            "[0.2 0.3 0.4 0.5 0.6]\n",
            "Values on Y-axis for analytical data:\n",
            "[2.4 3.6 4.8 6.  7.2]\n",
            "Values on X-axis for analytical data:\n",
            "[0.2 0.3 0.4 0.5 0.6]\n",
            "Values on Y-axis for predicted data:\n",
            "[2.41207373 3.60624102 4.80040831 5.9945756  7.18874289]\n",
            "[2.41207373 3.60624102 4.80040831 5.9945756  7.18874289]\n",
            "width13\n",
            "15.524174755452995 0.030860901005923758\n",
            "Root mean squared error\n",
            "0.00011527110623573821\n",
            "R score:\n",
            "0.9999763167516774\n",
            "Enter the value of energy in eV to predict the number of channels:0.1\n",
            "number of channels are :\n",
            "1.5832783765512233\n",
            "Values on X-axis for analytical data:\n",
            "[0.2 0.3 0.4 0.5 0.6]\n",
            "Values on Y-axis for analytical data:\n",
            "[3.12 4.68 6.24 7.8  9.36]\n",
            "Values on X-axis for analytical data:\n",
            "[0.2 0.3 0.4 0.5 0.6]\n",
            "Values on Y-axis for predicted data:\n",
            "[3.13569585 4.68811333 6.2405308  7.79294828 9.34536575]\n",
            "[3.13569585 4.68811333 6.2405308  7.79294828 9.34536575]\n",
            "width20\n",
            "23.883345777619983 0.047478309239884026\n",
            "Root mean squared error\n",
            "0.00027283102067631425\n",
            "R score:\n",
            "0.9999763167516774\n",
            "Enter the value of energy in eV to predict the number of channels:0.1\n",
            "number of channels are :\n",
            "2.435812887001882\n",
            "Values on X-axis for analytical data:\n",
            "[0.2 0.3 0.4 0.5 0.6]\n",
            "Values on Y-axis for analytical data:\n",
            "[ 4.8  7.2  9.6 12.  14.4]\n",
            "Values on X-axis for analytical data:\n",
            "[0.2 0.3 0.4 0.5 0.6]\n",
            "Values on Y-axis for predicted data:\n",
            "[ 4.82414746  7.21248204  9.60081662 11.9891512  14.37748578]\n",
            "[ 4.82414746  7.21248204  9.60081662 11.9891512  14.37748578]\n"
          ],
          "name": "stdout"
        },
        {
          "output_type": "display_data",
          "data": {
            "image/png": "[encoded data removed]",
            "text/plain": [
              "<Figure size 864x648 with 1 Axes>"
            ]
          },
          "metadata": {
            "tags": [],
            "needs_background": "light"
          }
        }
      ]
    },
    {
      "cell_type": "code",
      "metadata": {
        "id": "yD-_o-rNn17k"
      },
      "source": [
        ""
      ],
      "execution_count": null,
      "outputs": []
    },
    {
      "cell_type": "code",
      "metadata": {
        "id": "ckOldP00oZ3z"
      },
      "source": [
        "import random"
      ],
      "execution_count": null,
      "outputs": []
    },
    {
      "cell_type": "code",
      "metadata": {
        "id": "PgS-4-Uioee7"
      },
      "source": [
        "a=np.array(random.randint(0,5))"
      ],
      "execution_count": null,
      "outputs": []
    },
    {
      "cell_type": "code",
      "metadata": {
        "colab": {
          "base_uri": "https://localhost:8080/"
        },
        "id": "ih4fvIY0oggj",
        "outputId": "1f028eee-65f0-4df4-b891-10dfe4242677"
      },
      "source": [
        "a"
      ],
      "execution_count": null,
      "outputs": [
        {
          "output_type": "execute_result",
          "data": {
            "text/plain": [
              "array(4)"
            ]
          },
          "metadata": {
            "tags": []
          },
          "execution_count": 5
        }
      ]
    },
    {
      "cell_type": "code",
      "metadata": {
        "id": "DvX_lpj0ohXF"
      },
      "source": [
        ""
      ],
      "execution_count": null,
      "outputs": []
    }
  ]
}