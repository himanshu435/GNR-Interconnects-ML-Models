{
  "nbformat": 4,
  "nbformat_minor": 0,
  "metadata": {
    "colab": {
      "name": "model5 try.ipynb",
      "provenance": [],
      "include_colab_link": true
    },
    "kernelspec": {
      "name": "python3",
      "display_name": "Python 3"
    },
    "language_info": {
      "name": "python"
    }
  },
  "cells": [
    {
      "cell_type": "markdown",
      "metadata": {
        "id": "view-in-github",
        "colab_type": "text"
      },
      "source": [
        "<a href=\"https://colab.research.google.com/github/abhay1999/Machine-Learning-Model-Knowledge-based-for-GNR-Interconnects/blob/main/model5_try.ipynb\" target=\"_parent\"><img src=\"https://colab.research.google.com/assets/colab-badge.svg\" alt=\"Open In Colab\"/></a>"
      ]
    },
    {
      "cell_type": "code",
      "metadata": {
        "colab": {
          "base_uri": "https://localhost:8080/",
          "height": 844
        },
        "id": "aP3-Ln4d9nGy",
        "outputId": "67b6435c-7911-471b-ea84-c3a4016ef39a"
      },
      "source": [
        "import scipy.constants as spc\n",
        "import matplotlib as mpl\n",
        "import matplotlib.pyplot as plt\n",
        "import numpy as np\n",
        "def axes():\n",
        "    plt.axhline(0, alpha=.1)\n",
        "    plt.axvline(0, alpha=.1)\n",
        "\n",
        "h=0.4135\n",
        "w=float(input())\n",
        "n=3\n",
        "v_f=float(input())\n",
        "p=float(input())\n",
        "a=((2*w)/(n*v_f*h))**2\n",
        "print(a)\n",
        "b=w/p\n",
        "#c=-1*((p/w)**2)\n",
        "print(b)\n",
        "d=0\n",
        "e=0\n",
        "f=-1\n",
        "mpl.rcParams['lines.color'] = 'k'\n",
        "mpl.rcParams['axes.prop_cycle'] = mpl.cycler('color', ['k'])\n",
        "x = np.linspace(0.1,1, 400)\n",
        "y = np.linspace(1, 500, 400)\n",
        "x, y = np.meshgrid(x, y)\n",
        "\n",
        "#a, b, c, d, e, f = 150, 0, -25, 0, 0, -1000\n",
        "assert b**2 - 4*a*c > 0\n",
        "axes()\n",
        "#z=a*b*x**2+(y**2)*(2601*(b**2)*(a*x**2-1)-1)+y*(102*b**2)(1-a*x**2)-b**2\n",
        "z=a**2*(x**2)-(y**2)/(b**2)-1\n",
        "plt.contour(x, y,z, [0], colors='k')\n",
        "print(z)\n",
        "plt.show()\n",
        "m=0.001+0.0000772+(1./z)\n",
        "o=1/m\n",
        "plt.contour(x, y,o, [0], colors='k')"
      ],
      "execution_count": null,
      "outputs": [
        {
          "output_type": "stream",
          "text": [
            "15\n",
            "8\n",
            "0.5\n",
            "9.138375474647225\n",
            "30.0\n",
            "[[-1.66012048e-01 -1.27913515e-01 -8.89652013e-02 ...  8.17570219e+01\n",
            "   8.21324837e+01  8.25087952e+01]\n",
            " [-1.70529070e-01 -1.32430537e-01 -9.34822234e-02 ...  8.17525049e+01\n",
            "   8.21279667e+01  8.25042782e+01]\n",
            " [-1.78521796e-01 -1.40423264e-01 -1.01474950e-01 ...  8.17445122e+01\n",
            "   8.21199739e+01  8.24962855e+01]\n",
            " ...\n",
            " [-2.75170460e+02 -2.75132361e+02 -2.75093413e+02 ... -1.93247426e+02\n",
            "  -1.92871964e+02 -1.92495653e+02]\n",
            " [-2.76554831e+02 -2.76516733e+02 -2.76477785e+02 ... -1.94631798e+02\n",
            "  -1.94256336e+02 -1.93880024e+02]\n",
            " [-2.77942679e+02 -2.77904580e+02 -2.77865632e+02 ... -1.96019645e+02\n",
            "  -1.95644183e+02 -1.95267871e+02]]\n"
          ],
          "name": "stdout"
        },
        {
          "output_type": "display_data",
          "data": {
            "image/png": "[encoded data removed]",
            "text/plain": [
              "<Figure size 432x288 with 1 Axes>"
            ]
          },
          "metadata": {
            "tags": [],
            "needs_background": "light"
          }
        },
        {
          "output_type": "execute_result",
          "data": {
            "text/plain": [
              "<matplotlib.contour.QuadContourSet at 0x7f0cb5decfd0>"
            ]
          },
          "metadata": {
            "tags": []
          },
          "execution_count": 30
        },
        {
          "output_type": "display_data",
          "data": {
            "image/png": "[encoded data removed]",
            "text/plain": [
              "<Figure size 432x288 with 1 Axes>"
            ]
          },
          "metadata": {
            "tags": [],
            "needs_background": "light"
          }
        }
      ]
    },
    {
      "cell_type": "code",
      "metadata": {
        "id": "RrfkW9N-9rxr"
      },
      "source": [
        ""
      ],
      "execution_count": null,
      "outputs": []
    }
  ]
}